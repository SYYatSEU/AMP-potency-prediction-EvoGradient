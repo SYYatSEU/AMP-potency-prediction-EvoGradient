{
  "cells": [
    {
      "cell_type": "code",
      "execution_count": 13,
      "id": "b399fe72",
      "metadata": {
        "id": "b399fe72",
        "outputId": "342028fb-d06b-4a48-8374-26e5898b9237",
        "colab": {
          "base_uri": "https://localhost:8080/"
        }
      },
      "outputs": [
        {
          "output_type": "stream",
          "name": "stdout",
          "text": [
            "rm: cannot remove './AMP-potency-prediction-EvoGradient/': No such file or directory\n",
            "Cloning into 'AMP-potency-prediction-EvoGradient'...\n",
            "remote: Enumerating objects: 97, done.\u001b[K\n",
            "remote: Counting objects: 100% (97/97), done.\u001b[K\n",
            "remote: Compressing objects: 100% (68/68), done.\u001b[K\n",
            "remote: Total 97 (delta 30), reused 88 (delta 26), pack-reused 0 (from 0)\u001b[K\n",
            "Receiving objects: 100% (97/97), 17.16 MiB | 22.16 MiB/s, done.\n",
            "Resolving deltas: 100% (30/30), done.\n",
            "/content/AMP-potency-prediction-EvoGradient/AMP-potency-prediction-EvoGradient/AMP-potency-prediction-EvoGradient/AMP-potency-prediction-EvoGradient/AMP-potency-prediction-EvoGradient\n"
          ]
        }
      ],
      "source": [
        "# clone our github repo\n",
        "# %rm -r ./AMP-potency-prediction-EvoGradient/\n",
        "!git clone https://github.com/MicroResearchLab/AMP-potency-prediction-EvoGradient.git\n",
        "%cd AMP-potency-prediction-EvoGradient/"
      ]
    },
    {
      "cell_type": "code",
      "source": [],
      "metadata": {
        "id": "MCIdXB67Vqf5",
        "outputId": "c9997000-50cb-4c67-a4fe-6b0beb21a237",
        "colab": {
          "base_uri": "https://localhost:8080/"
        }
      },
      "id": "MCIdXB67Vqf5",
      "execution_count": 14,
      "outputs": [
        {
          "output_type": "stream",
          "name": "stdout",
          "text": [
            "AMP_classification.py  environment.yaml  \u001b[0m\u001b[01;34mmodel\u001b[0m/                    \u001b[01;34moutput\u001b[0m/\n",
            "AMP_regression.py      \u001b[01;34mEvoGradient\u001b[0m/      otherModels5_2Output.py   overview.jpg\n",
            "\u001b[01;34mdata\u001b[0m/                  LICENSE           otherModelsRegression.py  README.md\n"
          ]
        }
      ]
    }
  ],
  "metadata": {
    "language_info": {
      "name": "python"
    },
    "colab": {
      "provenance": []
    },
    "kernelspec": {
      "name": "python3",
      "display_name": "Python 3"
    }
  },
  "nbformat": 4,
  "nbformat_minor": 5
}